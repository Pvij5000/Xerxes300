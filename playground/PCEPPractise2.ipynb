{
 "cells": [
  {
   "cell_type": "code",
   "execution_count": 11,
   "id": "78e79769",
   "metadata": {},
   "outputs": [],
   "source": [
    "def is_year_leap(year):\n",
    "    is_leap = False # assuming that it is False\n",
    "    if year % 4 == 0:\n",
    "        if year % 100 == 0:\n",
    "            if year % 400 == 0:\n",
    "                is_leap = True\n",
    "        else:\n",
    "            is_leap = True\n",
    "    return is_leap\n",
    "\n",
    "def test_is_year_leap():\n",
    "    assert is_year_leap(2016)\n",
    "    assert is_year_leap(2000) == True    # We have created test coverage very rarely will one achieve 100% test coverage\n",
    "        assert not is_year_leap(1999)    # code coverage    \n",
    "                                         # if True ok if false not ok this test should confirm that our function returns True\n",
    "                                         # for the year 2000"
   ]
  },
  {
   "cell_type": "code",
   "execution_count": 12,
   "id": "95744b36",
   "metadata": {},
   "outputs": [
    {
     "name": "stdout",
     "output_type": "stream",
     "text": [
      "True\n",
      "False\n",
      "True\n"
     ]
    }
   ],
   "source": [
    "print(is_year_leap(2000))\n",
    "print(is_year_leap(1999))\n",
    "print(is_year_leap(2016))"
   ]
  },
  {
   "cell_type": "code",
   "execution_count": null,
   "id": "66866d82",
   "metadata": {},
   "outputs": [],
   "source": []
  }
 ],
 "metadata": {
  "kernelspec": {
   "display_name": "Python 3 (ipykernel)",
   "language": "python",
   "name": "python3"
  },
  "language_info": {
   "codemirror_mode": {
    "name": "ipython",
    "version": 3
   },
   "file_extension": ".py",
   "mimetype": "text/x-python",
   "name": "python",
   "nbconvert_exporter": "python",
   "pygments_lexer": "ipython3",
   "version": "3.7.9"
  }
 },
 "nbformat": 4,
 "nbformat_minor": 5
}
